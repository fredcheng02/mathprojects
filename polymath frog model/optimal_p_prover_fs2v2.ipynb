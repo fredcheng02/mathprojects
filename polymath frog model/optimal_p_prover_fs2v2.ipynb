{
 "cells": [
  {
   "cell_type": "markdown",
   "id": "efce0b49",
   "metadata": {},
   "source": [
    "#### symbolic pmf of $W$ based on $m$ given"
   ]
  },
  {
   "cell_type": "code",
   "execution_count": 1,
   "id": "4ef54e8c",
   "metadata": {},
   "outputs": [],
   "source": [
    "%display latex\n",
    "v = var('v')\n",
    "phi = var('varphi')\n",
    "y = var('y')\n",
    "\n",
    "# recursion algorithm to find the pmf of W\n",
    "# changed upon Aryan's original code\n",
    "def computeW(m):\n",
    "    W_mat = matrix(SR,m)\n",
    "    W_mat[0,0] = 1\n",
    "    \n",
    "    for j in range(1,m):\n",
    "        for k in range(j + 1): # if j = 1, k = 0 1\n",
    "            if k < j:\n",
    "                W_mat[j,k] = binomial(j,k) * (phi * v^(k+1))^(j-k) * W_mat[k,k]\n",
    "            else: # k == j\n",
    "                W_mat[j,j] = 1 - sum(W_mat[j,i] for i in range(j))\n",
    "    \n",
    "    return W_mat[-1,:]"
   ]
  },
  {
   "cell_type": "markdown",
   "id": "29c12c04",
   "metadata": {},
   "source": [
    "#### realization for different $m$ and $p$\n",
    "\n",
    "Note that we may use continued fraction to find a fraction approximation to a given decimal number. This usually gives us a smaller constant used later in substitution, and prevent our computation from numerical errors."
   ]
  },
  {
   "cell_type": "code",
   "execution_count": 2,
   "id": "b5b448f7",
   "metadata": {},
   "outputs": [],
   "source": [
    "m = 4\n",
    "a = 17\n",
    "b = 65\n",
    "\n",
    "p = a / b # should have coprime denom. and numer.\n",
    "# cf = continued_fraction(0.2025)\n",
    "# cf.convergents() # for choosing the p with small denom and num"
   ]
  },
  {
   "cell_type": "code",
   "execution_count": 3,
   "id": "00fa9a46",
   "metadata": {},
   "outputs": [],
   "source": [
    "# initialization\n",
    "phi = exp((2*a - b) / (b*m - a*m - a)) # as in frog star 2\n",
    "v = y^(b - 2*a)\n",
    "\n",
    "W_vec = vector(computeW(m))"
   ]
  },
  {
   "cell_type": "code",
   "execution_count": 4,
   "id": "ebb56f3e",
   "metadata": {},
   "outputs": [
    {
     "data": {
      "text/html": [
       "<html>\\(\\displaystyle -{\\left(6 \\, y^{246} - 6 \\, y^{215} e^{\\frac{31}{175}} - 6 \\, y^{215} - 6 \\, y^{195} + 3 \\, y^{184} e^{\\frac{31}{175}} + 6 \\, y^{164} e^{\\frac{31}{175}} + 3 \\, y^{164} + 3 \\, y^{153} e^{\\frac{62}{175}} + y^{153} + 3 \\, y^{113} - 3 \\, y^{102} e^{\\frac{62}{175}} - 3 \\, y^{82} e^{\\frac{31}{175}} - y^{60} e^{\\frac{93}{175}} - 1\\right)} e^{\\left(-\\frac{144}{175}\\right)}\\)</html>"
      ],
      "text/latex": [
       "$\\displaystyle -{\\left(6 \\, y^{246} - 6 \\, y^{215} e^{\\frac{31}{175}} - 6 \\, y^{215} - 6 \\, y^{195} + 3 \\, y^{184} e^{\\frac{31}{175}} + 6 \\, y^{164} e^{\\frac{31}{175}} + 3 \\, y^{164} + 3 \\, y^{153} e^{\\frac{62}{175}} + y^{153} + 3 \\, y^{113} - 3 \\, y^{102} e^{\\frac{62}{175}} - 3 \\, y^{82} e^{\\frac{31}{175}} - y^{60} e^{\\frac{93}{175}} - 1\\right)} e^{\\left(-\\frac{144}{175}\\right)}$"
      ],
      "text/plain": [
       "-{\\left(6 \\, y^{246} - 6 \\, y^{215} e^{\\frac{31}{175}} - 6 \\, y^{215} - 6 \\, y^{195} + 3 \\, y^{184} e^{\\frac{31}{175}} + 6 \\, y^{164} e^{\\frac{31}{175}} + 3 \\, y^{164} + 3 \\, y^{153} e^{\\frac{62}{175}} + y^{153} + 3 \\, y^{113} - 3 \\, y^{102} e^{\\frac{62}{175}} - 3 \\, y^{82} e^{\\frac{31}{175}} - y^{60} e^{\\frac{93}{175}} - 1\\right)} e^{\\left(-\\frac{144}{175}\\right)}"
      ]
     },
     "execution_count": 4,
     "metadata": {},
     "output_type": "execute_result"
    }
   ],
   "source": [
    "g(y) = (exp((a - a*m)/(b*m - a*m - a)) * sum(y^((m-1)*(k*a+2*a-b))*W_vec[k] for k in range(m))).simplify().factor()\n",
    "latex(g(y))"
   ]
  },
  {
   "cell_type": "markdown",
   "id": "b66b5c01",
   "metadata": {},
   "source": [
    "To have the best display of long math equations, right click the math below, then select math settings |> math renderer |> preview html."
   ]
  },
  {
   "cell_type": "code",
   "execution_count": 5,
   "id": "2b37d5cc",
   "metadata": {
    "scrolled": false
   },
   "outputs": [
    {
     "data": {
      "image/png": "[encoded data removed]",
      "text/plain": [
       "Graphics object consisting of 2 graphics primitives"
      ]
     },
     "execution_count": 5,
     "metadata": {},
     "output_type": "execute_result"
    }
   ],
   "source": [
    "plot(g(y),(y,0,1), ymin = 0, ymax = 1) + plot(1, (y,0,1), ymin = 0, ymax = 1, color = 'red')"
   ]
  },
  {
   "cell_type": "code",
   "execution_count": 6,
   "id": "a3dd64ab",
   "metadata": {},
   "outputs": [
    {
     "data": {
      "text/html": [
       "<html>\\(\\displaystyle -3 \\, {\\left(492 \\, y^{186} - 430 \\, y^{155} e^{\\frac{31}{175}} - 430 \\, y^{155} - 390 \\, y^{135} + 184 \\, y^{124} e^{\\frac{31}{175}} + 328 \\, y^{104} e^{\\frac{31}{175}} + 164 \\, y^{104} + 153 \\, y^{93} e^{\\frac{62}{175}} + 51 \\, y^{93} + 113 \\, y^{53} - 102 \\, y^{42} e^{\\frac{62}{175}} - 82 \\, y^{22} e^{\\frac{31}{175}} - 20 \\, e^{\\frac{93}{175}}\\right)} y^{59} e^{\\left(-\\frac{144}{175}\\right)}\\)</html>"
      ],
      "text/latex": [
       "$\\displaystyle -3 \\, {\\left(492 \\, y^{186} - 430 \\, y^{155} e^{\\frac{31}{175}} - 430 \\, y^{155} - 390 \\, y^{135} + 184 \\, y^{124} e^{\\frac{31}{175}} + 328 \\, y^{104} e^{\\frac{31}{175}} + 164 \\, y^{104} + 153 \\, y^{93} e^{\\frac{62}{175}} + 51 \\, y^{93} + 113 \\, y^{53} - 102 \\, y^{42} e^{\\frac{62}{175}} - 82 \\, y^{22} e^{\\frac{31}{175}} - 20 \\, e^{\\frac{93}{175}}\\right)} y^{59} e^{\\left(-\\frac{144}{175}\\right)}$"
      ],
      "text/plain": [
       "-3*(492*y^186 - 430*y^155*e^(31/175) - 430*y^155 - 390*y^135 + 184*y^124*e^(31/175) + 328*y^104*e^(31/175) + 164*y^104 + 153*y^93*e^(62/175) + 51*y^93 + 113*y^53 - 102*y^42*e^(62/175) - 82*y^22*e^(31/175) - 20*e^(93/175))*y^59*e^(-144/175)"
      ]
     },
     "execution_count": 6,
     "metadata": {},
     "output_type": "execute_result"
    }
   ],
   "source": [
    "dg(y) = diff(g(y)).factor()\n",
    "dg(y) # from which we see the multiplicity at 0"
   ]
  },
  {
   "cell_type": "code",
   "execution_count": 7,
   "id": "f37dda0b",
   "metadata": {},
   "outputs": [
    {
     "data": {
      "text/latex": [
       "60"
      ],
      "text/plain": [
       "60"
      ]
     },
     "execution_count": 7,
     "metadata": {},
     "output_type": "execute_result"
    }
   ],
   "source": [
    "mdg = mathematica(dg(y))\n",
    "mdg.CountRoots([y,0,1]) # call CountRoots from Mathematica\n",
    "# solve(dg(y) == 0, y, multiplicities = True) a possible alternative"
   ]
  },
  {
   "cell_type": "markdown",
   "id": "b57342d1",
   "metadata": {},
   "source": [
    "There seems to be no `CountRoots` equivalent in SageMath. The `find_root` function gives *a* (not *the*) root of $g(y)$ within the closed interval given. It may run into precision problems if we choose a substitution constant that is too large, which makes $g'(y)$ have extremely large coefficients and involved exponents for computation.\n",
    "\n",
    "The idea is to import the `CountRoots` function from Mathematica (this requires some setup on the computer), which hopefully helps us determine that for the function $g'(y)$, there are (1 + multiplicity of the root $y = 0$) on the closed interval $[0,1]$. If that is the case, we know there is exactly one root $y_0$ of $g'(y)$ on $(0,1]$. Then by the steps below here in the code and our analysis in the explanation document, we know that this root is indeed the argmax, with $g(y_0) < 1$."
   ]
  },
  {
   "cell_type": "code",
   "execution_count": 8,
   "id": "5dbe039c",
   "metadata": {
    "scrolled": true
   },
   "outputs": [
    {
     "data": {
      "text/html": [
       "<html>\\(\\displaystyle 0.9900915461381\\)</html>"
      ],
      "text/latex": [
       "$\\displaystyle 0.9900915461381$"
      ],
      "text/plain": [
       "0.9900915461381"
      ]
     },
     "execution_count": 8,
     "metadata": {},
     "output_type": "execute_result"
    }
   ],
   "source": [
    "y0 = dg(y).find_root(0.9,1)\n",
    "y0"
   ]
  },
  {
   "cell_type": "code",
   "execution_count": 9,
   "id": "4d192f12",
   "metadata": {
    "scrolled": true
   },
   "outputs": [
    {
     "data": {
      "text/html": [
       "<html>\\(\\displaystyle 0.999346739212881\\)</html>"
      ],
      "text/latex": [
       "$\\displaystyle 0.999346739212881$"
      ],
      "text/plain": [
       "0.999346739212881"
      ]
     },
     "execution_count": 9,
     "metadata": {},
     "output_type": "execute_result"
    }
   ],
   "source": [
    "g(y0).n() # < 1"
   ]
  },
  {
   "cell_type": "markdown",
   "id": "cb01c490",
   "metadata": {},
   "source": [
    "To check if this $y_0$ is indeed the argmax:\n",
    "\n",
    "Method 1. Second Derivative Test"
   ]
  },
  {
   "cell_type": "code",
   "execution_count": 10,
   "id": "09646ae5",
   "metadata": {},
   "outputs": [
    {
     "data": {
      "text/html": [
       "<html>\\(\\displaystyle -4085.34505673730\\)</html>"
      ],
      "text/latex": [
       "$\\displaystyle -4085.34505673730$"
      ],
      "text/plain": [
       "-4085.34505673730"
      ]
     },
     "execution_count": 10,
     "metadata": {},
     "output_type": "execute_result"
    }
   ],
   "source": [
    "diff(dg)(y0).n() # < 0; second derivative test"
   ]
  },
  {
   "cell_type": "markdown",
   "id": "7a26f7eb",
   "metadata": {},
   "source": [
    "Method 2. by EVT and Fermat's theorem"
   ]
  },
  {
   "cell_type": "code",
   "execution_count": 11,
   "id": "8ff72fd0",
   "metadata": {},
   "outputs": [
    {
     "data": {
      "text/html": [
       "<html>\\(\\displaystyle 0.439175074319636\\)</html>"
      ],
      "text/latex": [
       "$\\displaystyle 0.439175074319636$"
      ],
      "text/plain": [
       "0.439175074319636"
      ]
     },
     "execution_count": 11,
     "metadata": {},
     "output_type": "execute_result"
    }
   ],
   "source": [
    "g(0).n() # < g(y0).n()"
   ]
  },
  {
   "cell_type": "code",
   "execution_count": 12,
   "id": "f1012df2",
   "metadata": {},
   "outputs": [
    {
     "data": {
      "text/html": [
       "<html>\\(\\displaystyle 0.747195382795676\\)</html>"
      ],
      "text/latex": [
       "$\\displaystyle 0.747195382795676$"
      ],
      "text/plain": [
       "0.747195382795676"
      ]
     },
     "execution_count": 12,
     "metadata": {},
     "output_type": "execute_result"
    }
   ],
   "source": [
    "g(1).n() # < g(y0).n()"
   ]
  },
  {
   "cell_type": "markdown",
   "id": "bea9ed89",
   "metadata": {},
   "source": [
    "To summarize,"
   ]
  },
  {
   "cell_type": "code",
   "execution_count": 14,
   "id": "b2776393",
   "metadata": {},
   "outputs": [
    {
     "name": "stdout",
     "output_type": "stream",
     "text": [
      "Under m = 4 and p = 17/65 ~ 0.26153846153846155 our substitution constant is 144 \n",
      "g(y) reaches its maximum at y = 0.9900915461381 with value 0.999346739212881 < 1\n"
     ]
    }
   ],
   "source": [
    "print('Under m =', m, 'and p =', p, '~', float(p),'our substitution constant is', (b - a) * (m - 1),'\\n\\\n",
    "g(y) reaches its maximum at y =', y0, 'with value', g(y0).n(), '< 1')"
   ]
  }
 ],
 "metadata": {
  "kernelspec": {
   "display_name": "SageMath 10.0",
   "language": "sage",
   "name": "sagemath-10.0"
  },
  "language_info": {
   "codemirror_mode": {
    "name": "ipython",
    "version": 3
   },
   "file_extension": ".py",
   "mimetype": "text/x-python",
   "name": "python",
   "nbconvert_exporter": "python",
   "pygments_lexer": "ipython3",
   "version": "3.11.1"
  },
  "varInspector": {
   "cols": {
    "lenName": 16,
    "lenType": 16,
    "lenVar": 40
   },
   "kernels_config": {
    "python": {
     "delete_cmd_postfix": "",
     "delete_cmd_prefix": "del ",
     "library": "var_list.py",
     "varRefreshCmd": "print(var_dic_list())"
    },
    "r": {
     "delete_cmd_postfix": ") ",
     "delete_cmd_prefix": "rm(",
     "library": "var_list.r",
     "varRefreshCmd": "cat(var_dic_list()) "
    }
   },
   "types_to_exclude": [
    "module",
    "function",
    "builtin_function_or_method",
    "instance",
    "_Feature"
   ],
   "window_display": false
  }
 },
 "nbformat": 4,
 "nbformat_minor": 5
}
