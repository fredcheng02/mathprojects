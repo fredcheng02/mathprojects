{
 "cells": [
  {
   "cell_type": "markdown",
   "id": "efce0b49",
   "metadata": {},
   "source": [
    "#### symbolic pmf of U based on $m$ given"
   ]
  },
  {
   "cell_type": "code",
   "execution_count": 34,
   "id": "4ef54e8c",
   "metadata": {},
   "outputs": [],
   "source": [
    "%display latex\n",
    "V = var('V')\n",
    "phi = var('Phi')\n",
    "\n",
    "def computeU(m):\n",
    "    U_mat = matrix(SR,m)\n",
    "    U_mat[0,0] = 1\n",
    "    \n",
    "    for j in range(1,m):\n",
    "        for k in range(j + 1): # if j = 1, k = 0 1\n",
    "            if k < j:\n",
    "                U_mat[j,k] = binomial(j,k) * (phi * V^(k+1))^(j-k) * U_mat[k,k]\n",
    "            else: # k == j\n",
    "                U_mat[j,j] = 1 - sum(U_mat[j,i] for i in range(j))\n",
    "    \n",
    "    return U_mat[-1,:]"
   ]
  },
  {
   "cell_type": "code",
   "execution_count": 35,
   "id": "e1677e67",
   "metadata": {},
   "outputs": [
    {
     "data": {
      "text/html": [
       "<html>\\(\\displaystyle \\left(\\begin{array}{rrrr}\n",
       "\\Phi^{3} V^{3} & -3 \\, {\\left(\\Phi V - 1\\right)} \\Phi^{2} V^{4} & 3 \\, {\\left(2 \\, {\\left(\\Phi V - 1\\right)} \\Phi V^{2} - \\Phi^{2} V^{2} + 1\\right)} \\Phi V^{3} & 3 \\, {\\left(\\Phi V - 1\\right)} \\Phi^{2} V^{4} - \\Phi^{3} V^{3} - 3 \\, {\\left(2 \\, {\\left(\\Phi V - 1\\right)} \\Phi V^{2} - \\Phi^{2} V^{2} + 1\\right)} \\Phi V^{3} + 1\n",
       "\\end{array}\\right)\\)</html>"
      ],
      "text/latex": [
       "$\\displaystyle \\left(\\begin{array}{rrrr}\n",
       "\\Phi^{3} V^{3} & -3 \\, {\\left(\\Phi V - 1\\right)} \\Phi^{2} V^{4} & 3 \\, {\\left(2 \\, {\\left(\\Phi V - 1\\right)} \\Phi V^{2} - \\Phi^{2} V^{2} + 1\\right)} \\Phi V^{3} & 3 \\, {\\left(\\Phi V - 1\\right)} \\Phi^{2} V^{4} - \\Phi^{3} V^{3} - 3 \\, {\\left(2 \\, {\\left(\\Phi V - 1\\right)} \\Phi V^{2} - \\Phi^{2} V^{2} + 1\\right)} \\Phi V^{3} + 1\n",
       "\\end{array}\\right)$"
      ],
      "text/plain": [
       "[                                                                                  Phi^3*V^3                                                                    -3*(Phi*V - 1)*Phi^2*V^4                                           3*(2*(Phi*V - 1)*Phi*V^2 - Phi^2*V^2 + 1)*Phi*V^3 3*(Phi*V - 1)*Phi^2*V^4 - Phi^3*V^3 - 3*(2*(Phi*V - 1)*Phi*V^2 - Phi^2*V^2 + 1)*Phi*V^3 + 1]"
      ]
     },
     "execution_count": 35,
     "metadata": {},
     "output_type": "execute_result"
    }
   ],
   "source": [
    "computeU(4) # for checking"
   ]
  },
  {
   "cell_type": "markdown",
   "id": "0949913b",
   "metadata": {},
   "source": [
    "#### realization for different $m$ and $p$"
   ]
  },
  {
   "cell_type": "code",
   "execution_count": 36,
   "id": "14fa40cd",
   "metadata": {},
   "outputs": [],
   "source": [
    "m = 4\n",
    "p = 27 / 100\n",
    "tp = p * (m - 1) / (m - (m + 1) * p)\n",
    "hp = p / (1 - p)\n",
    "rho = 1 - hp\n",
    "\n",
    "phi = exp(-rho / m)\n",
    "V = exp(-rho * x / (m - 1))\n",
    "\n",
    "U_vec = vector(computeU(m))"
   ]
  },
  {
   "cell_type": "code",
   "execution_count": 37,
   "id": "0b906f41",
   "metadata": {
    "scrolled": true
   },
   "outputs": [
    {
     "data": {
      "text/html": [
       "<html>\\(\\displaystyle {\\left(3 \\, {\\left(e^{\\left(\\frac{311}{219} \\, x\\right)} - e^{\\left(\\frac{230}{219} \\, x\\right)}\\right)} e^{\\frac{46}{73}} + 3 \\, {\\left(e^{\\left(\\frac{346}{219} \\, x\\right)} - e^{\\left(\\frac{184}{219} \\, x\\right)}\\right)} e^{\\frac{69}{146}} + {\\left(6 \\, {\\left(e^{\\left(\\frac{46}{73} \\, x\\right)} - e^{x}\\right)} e^{\\frac{23}{146}} + e^{\\left(\\frac{473}{219} \\, x\\right)} - 3 \\, e^{\\left(\\frac{100}{73} \\, x\\right)} - e^{\\left(\\frac{230}{219} \\, x\\right)} + 6 \\, e^{\\left(\\frac{173}{219} \\, x\\right)} + 6 \\, e^{\\left(\\frac{46}{73} \\, x\\right)} - 6 \\, e^{\\left(\\frac{92}{219} \\, x\\right)} + e^{\\left(\\frac{368}{219} \\, x + \\frac{69}{146}\\right)} - 3 \\, e^{x}\\right)} e^{\\frac{23}{73}}\\right)} e^{\\left(-\\frac{473}{219} \\, x - \\frac{42301}{38690}\\right)}\\)</html>"
      ],
      "text/latex": [
       "$\\displaystyle {\\left(3 \\, {\\left(e^{\\left(\\frac{311}{219} \\, x\\right)} - e^{\\left(\\frac{230}{219} \\, x\\right)}\\right)} e^{\\frac{46}{73}} + 3 \\, {\\left(e^{\\left(\\frac{346}{219} \\, x\\right)} - e^{\\left(\\frac{184}{219} \\, x\\right)}\\right)} e^{\\frac{69}{146}} + {\\left(6 \\, {\\left(e^{\\left(\\frac{46}{73} \\, x\\right)} - e^{x}\\right)} e^{\\frac{23}{146}} + e^{\\left(\\frac{473}{219} \\, x\\right)} - 3 \\, e^{\\left(\\frac{100}{73} \\, x\\right)} - e^{\\left(\\frac{230}{219} \\, x\\right)} + 6 \\, e^{\\left(\\frac{173}{219} \\, x\\right)} + 6 \\, e^{\\left(\\frac{46}{73} \\, x\\right)} - 6 \\, e^{\\left(\\frac{92}{219} \\, x\\right)} + e^{\\left(\\frac{368}{219} \\, x + \\frac{69}{146}\\right)} - 3 \\, e^{x}\\right)} e^{\\frac{23}{73}}\\right)} e^{\\left(-\\frac{473}{219} \\, x - \\frac{42301}{38690}\\right)}$"
      ],
      "text/plain": [
       "(3*(e^(311/219*x) - e^(230/219*x))*e^(46/73) + 3*(e^(346/219*x) - e^(184/219*x))*e^(69/146) + (6*(e^(46/73*x) - e^x)*e^(23/146) + e^(473/219*x) - 3*e^(100/73*x) - e^(230/219*x) + 6*e^(173/219*x) + 6*e^(46/73*x) - 6*e^(92/219*x) + e^(368/219*x + 69/146) - 3*e^x)*e^(23/73))*e^(-473/219*x - 42301/38690)"
      ]
     },
     "execution_count": 37,
     "metadata": {},
     "output_type": "execute_result"
    }
   ],
   "source": [
    "f(x) = e^(-tp) * sum(e^((1 - hp * (1 + u)) * x) * U_vec[u] for u in range(m))\n",
    "f(x).simplify_full()"
   ]
  },
  {
   "cell_type": "code",
   "execution_count": 38,
   "id": "ad506a91",
   "metadata": {},
   "outputs": [
    {
     "data": {
      "image/png": "[encoded data removed]",
      "text/plain": [
       "Graphics object consisting of 2 graphics primitives"
      ]
     },
     "execution_count": 38,
     "metadata": {},
     "output_type": "execute_result"
    }
   ],
   "source": [
    "plot(f(x), (x,0,10), ymin = 0.5, ymax = 1.1) + plot(1, (x,0,10), ymin = 0.5, ymax = 1.1, color = 'red')"
   ]
  },
  {
   "cell_type": "markdown",
   "id": "c64c58ed",
   "metadata": {},
   "source": [
    "We substitute $x$ by $-219\\log(y)$ below. Since we are considering $x > 0$, it suffices to consider all $y \\in (0,1)$."
   ]
  },
  {
   "cell_type": "code",
   "execution_count": 39,
   "id": "dffae26e",
   "metadata": {},
   "outputs": [],
   "source": [
    "g(y) = f(x).subs(x == -219 * log(y))"
   ]
  },
  {
   "cell_type": "code",
   "execution_count": 40,
   "id": "2b37d5cc",
   "metadata": {
    "scrolled": false
   },
   "outputs": [
    {
     "data": {
      "image/png": "[encoded data removed]",
      "text/plain": [
       "Graphics object consisting of 2 graphics primitives"
      ]
     },
     "execution_count": 40,
     "metadata": {},
     "output_type": "execute_result"
    }
   ],
   "source": [
    "plot(g(y),(y,0,1), ymin = 0, ymax = 1) + plot(1, (y,0,1), ymin = 0, ymax = 1, color = 'red')"
   ]
  },
  {
   "cell_type": "code",
   "execution_count": 41,
   "id": "53170fdf",
   "metadata": {
    "scrolled": false
   },
   "outputs": [
    {
     "data": {
      "text/html": [
       "<html>\\(\\displaystyle -3 \\, {\\left(762 \\, y^{276} - 670 \\, y^{230} e^{\\frac{23}{146}} - 670 \\, y^{230} - 600 \\, y^{195} + 289 \\, y^{184} e^{\\frac{23}{146}} + 508 \\, y^{149} e^{\\frac{23}{146}} + 254 \\, y^{149} + 243 \\, y^{138} e^{\\frac{23}{73}} + 81 \\, y^{138} + 173 \\, y^{68} - 162 \\, y^{57} e^{\\frac{23}{73}} - 127 \\, y^{22} e^{\\frac{23}{146}} - 35 \\, e^{\\frac{69}{146}}\\right)} y^{104} e^{\\left(-\\frac{30111}{38690}\\right)}\\)</html>"
      ],
      "text/latex": [
       "$\\displaystyle -3 \\, {\\left(762 \\, y^{276} - 670 \\, y^{230} e^{\\frac{23}{146}} - 670 \\, y^{230} - 600 \\, y^{195} + 289 \\, y^{184} e^{\\frac{23}{146}} + 508 \\, y^{149} e^{\\frac{23}{146}} + 254 \\, y^{149} + 243 \\, y^{138} e^{\\frac{23}{73}} + 81 \\, y^{138} + 173 \\, y^{68} - 162 \\, y^{57} e^{\\frac{23}{73}} - 127 \\, y^{22} e^{\\frac{23}{146}} - 35 \\, e^{\\frac{69}{146}}\\right)} y^{104} e^{\\left(-\\frac{30111}{38690}\\right)}$"
      ],
      "text/plain": [
       "-3*(762*y^276 - 670*y^230*e^(23/146) - 670*y^230 - 600*y^195 + 289*y^184*e^(23/146) + 508*y^149*e^(23/146) + 254*y^149 + 243*y^138*e^(23/73) + 81*y^138 + 173*y^68 - 162*y^57*e^(23/73) - 127*y^22*e^(23/146) - 35*e^(69/146))*y^104*e^(-30111/38690)"
      ]
     },
     "execution_count": 41,
     "metadata": {},
     "output_type": "execute_result"
    }
   ],
   "source": [
    "factor(diff(g(y)).full_simplify())"
   ]
  },
  {
   "cell_type": "code",
   "execution_count": 42,
   "id": "5dbe039c",
   "metadata": {
    "scrolled": true
   },
   "outputs": [],
   "source": [
    "# there seems to be no count_root function in SageMath\n",
    "y_max = diff(g(y)).find_root(0.1,1)"
   ]
  },
  {
   "cell_type": "code",
   "execution_count": 43,
   "id": "4d192f12",
   "metadata": {},
   "outputs": [
    {
     "data": {
      "text/html": [
       "<html>\\(\\displaystyle 0.974094352397562\\)</html>"
      ],
      "text/latex": [
       "$\\displaystyle 0.974094352397562$"
      ],
      "text/plain": [
       "0.974094352397562"
      ]
     },
     "execution_count": 43,
     "metadata": {},
     "output_type": "execute_result"
    }
   ],
   "source": [
    "g(y_max).n() # < 1"
   ]
  },
  {
   "cell_type": "code",
   "execution_count": 44,
   "id": "e5b7518e",
   "metadata": {
    "scrolled": true
   },
   "outputs": [
    {
     "data": {
      "text/html": [
       "<html>\\(\\displaystyle 1.3888476364520281\\)</html>"
      ],
      "text/latex": [
       "$\\displaystyle 1.3888476364520281$"
      ],
      "text/plain": [
       "1.3888476364520281"
      ]
     },
     "execution_count": 44,
     "metadata": {},
     "output_type": "execute_result"
    }
   ],
   "source": [
    "-219 * log(y_max) # original x_max"
   ]
  }
 ],
 "metadata": {
  "kernelspec": {
   "display_name": "SageMath 10.0",
   "language": "sage",
   "name": "sagemath-10.0"
  },
  "language_info": {
   "codemirror_mode": {
    "name": "ipython",
    "version": 3
   },
   "file_extension": ".py",
   "mimetype": "text/x-python",
   "name": "python",
   "nbconvert_exporter": "python",
   "pygments_lexer": "ipython3",
   "version": "3.11.1"
  },
  "varInspector": {
   "cols": {
    "lenName": 16,
    "lenType": 16,
    "lenVar": 40
   },
   "kernels_config": {
    "python": {
     "delete_cmd_postfix": "",
     "delete_cmd_prefix": "del ",
     "library": "var_list.py",
     "varRefreshCmd": "print(var_dic_list())"
    },
    "r": {
     "delete_cmd_postfix": ") ",
     "delete_cmd_prefix": "rm(",
     "library": "var_list.r",
     "varRefreshCmd": "cat(var_dic_list()) "
    }
   },
   "types_to_exclude": [
    "module",
    "function",
    "builtin_function_or_method",
    "instance",
    "_Feature"
   ],
   "window_display": false
  }
 },
 "nbformat": 4,
 "nbformat_minor": 5
}
