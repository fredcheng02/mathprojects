{
 "cells": [
  {
   "cell_type": "markdown",
   "id": "efce0b49",
   "metadata": {},
   "source": [
    "#### symbolic pmf of $U$ based on $m$ given"
   ]
  },
  {
   "cell_type": "code",
   "execution_count": 13,
   "id": "4ef54e8c",
   "metadata": {},
   "outputs": [],
   "source": [
    "%display latex\n",
    "V = var('V')\n",
    "phi = var('Phi')\n",
    "\n",
    "# recursion algorithm to find the pmf of U\n",
    "def computeU(m):\n",
    "    U_mat = matrix(SR,m)\n",
    "    U_mat[0,0] = 1\n",
    "    \n",
    "    for j in range(1,m):\n",
    "        for k in range(j + 1): # if j = 1, k = 0 1\n",
    "            if k < j:\n",
    "                U_mat[j,k] = binomial(j,k) * (phi * V^(k+1))^(j-k) * U_mat[k,k]\n",
    "            else: # k == j\n",
    "                U_mat[j,j] = 1 - sum(U_mat[j,i] for i in range(j))\n",
    "    \n",
    "    return U_mat[-1,:]"
   ]
  },
  {
   "cell_type": "markdown",
   "id": "29c12c04",
   "metadata": {},
   "source": [
    "#### realization for different $m$ and $p$\n",
    "\n",
    "Note that we may use continued fraction to find a fraction approximation to a given decimal number. This usually gives us a smaller constant $a$ used later in substitution."
   ]
  },
  {
   "cell_type": "code",
   "execution_count": 14,
   "id": "b5b448f7",
   "metadata": {},
   "outputs": [],
   "source": [
    "m = 4\n",
    "a = 17\n",
    "b = 65\n",
    "p = a / b # should have coprime denom. and numer.\n",
    "# p_cf = continued_fraction(0.3459) # for choosing the p with small denom\n",
    "# p_cf.convergents()"
   ]
  },
  {
   "cell_type": "code",
   "execution_count": 15,
   "id": "00fa9a46",
   "metadata": {},
   "outputs": [],
   "source": [
    "# initialization\n",
    "tp = p * (m - 1) / (m - (m + 1) * p)\n",
    "hp = p / (1 - p)\n",
    "rho = 1 - hp\n",
    "\n",
    "phi = exp(-(1 - tp) / m) # as in frog star 2\n",
    "V = exp(-rho * x / (m - 1))\n",
    "\n",
    "U_vec = vector(computeU(m))"
   ]
  },
  {
   "cell_type": "markdown",
   "id": "b66b5c01",
   "metadata": {},
   "source": [
    "To have the best display of long math equations, right click the math below, then select math settings |> math renderer |> preview html."
   ]
  },
  {
   "cell_type": "code",
   "execution_count": 16,
   "id": "513f583a",
   "metadata": {},
   "outputs": [
    {
     "data": {
      "text/html": [
       "<html>\\(\\displaystyle {\\left(3 \\, {\\left(e^{\\left(\\frac{65}{24} \\, x\\right)} - e^{\\left(\\frac{113}{48} \\, x\\right)}\\right)} e^{\\frac{144}{175}} - 3 \\, {\\left({\\left(e^{\\left(\\frac{103}{72} \\, x\\right)} - 2 \\, e^{\\left(\\frac{175}{144} \\, x\\right)}\\right)} e^{\\left(\\frac{17}{24} \\, x\\right)} - {\\left(e^{\\left(\\frac{175}{72} \\, x\\right)} - 2 \\, e^{\\left(\\frac{67}{36} \\, x\\right)}\\right)} e^{\\left(\\frac{5}{12} \\, x\\right)}\\right)} e^{\\frac{113}{175}} + {\\left(3 \\, {\\left(e^{\\left(\\frac{31}{144} \\, x\\right)} - 2\\right)} e^{\\left(\\frac{41}{24} \\, x\\right)} - {\\left(e^{\\left(\\frac{79}{48} \\, x\\right)} - 3 \\, e^{\\left(\\frac{175}{144} \\, x\\right)}\\right)} e^{\\left(\\frac{17}{24} \\, x\\right)} - 3 \\, {\\left({\\left(e^{\\left(\\frac{31}{144} \\, x\\right)} - 2\\right)} e^{\\left(\\frac{79}{48} \\, x\\right)} + e^{\\left(\\frac{319}{144} \\, x\\right)}\\right)} e^{\\left(\\frac{5}{12} \\, x\\right)} + e^{\\left(\\frac{41}{12} \\, x\\right)}\\right)} e^{\\frac{82}{175}} + e^{\\left(3 \\, x + 1\\right)}\\right)} e^{\\left(-\\frac{41}{12} \\, x - \\frac{226}{175}\\right)}\\)</html>"
      ],
      "text/latex": [
       "$\\displaystyle {\\left(3 \\, {\\left(e^{\\left(\\frac{65}{24} \\, x\\right)} - e^{\\left(\\frac{113}{48} \\, x\\right)}\\right)} e^{\\frac{144}{175}} - 3 \\, {\\left({\\left(e^{\\left(\\frac{103}{72} \\, x\\right)} - 2 \\, e^{\\left(\\frac{175}{144} \\, x\\right)}\\right)} e^{\\left(\\frac{17}{24} \\, x\\right)} - {\\left(e^{\\left(\\frac{175}{72} \\, x\\right)} - 2 \\, e^{\\left(\\frac{67}{36} \\, x\\right)}\\right)} e^{\\left(\\frac{5}{12} \\, x\\right)}\\right)} e^{\\frac{113}{175}} + {\\left(3 \\, {\\left(e^{\\left(\\frac{31}{144} \\, x\\right)} - 2\\right)} e^{\\left(\\frac{41}{24} \\, x\\right)} - {\\left(e^{\\left(\\frac{79}{48} \\, x\\right)} - 3 \\, e^{\\left(\\frac{175}{144} \\, x\\right)}\\right)} e^{\\left(\\frac{17}{24} \\, x\\right)} - 3 \\, {\\left({\\left(e^{\\left(\\frac{31}{144} \\, x\\right)} - 2\\right)} e^{\\left(\\frac{79}{48} \\, x\\right)} + e^{\\left(\\frac{319}{144} \\, x\\right)}\\right)} e^{\\left(\\frac{5}{12} \\, x\\right)} + e^{\\left(\\frac{41}{12} \\, x\\right)}\\right)} e^{\\frac{82}{175}} + e^{\\left(3 \\, x + 1\\right)}\\right)} e^{\\left(-\\frac{41}{12} \\, x - \\frac{226}{175}\\right)}$"
      ],
      "text/plain": [
       "(3*(e^(65/24*x) - e^(113/48*x))*e^(144/175) - 3*((e^(103/72*x) - 2*e^(175/144*x))*e^(17/24*x) - (e^(175/72*x) - 2*e^(67/36*x))*e^(5/12*x))*e^(113/175) + (3*(e^(31/144*x) - 2)*e^(41/24*x) - (e^(79/48*x) - 3*e^(175/144*x))*e^(17/24*x) - 3*((e^(31/144*x) - 2)*e^(79/48*x) + e^(319/144*x))*e^(5/12*x) + e^(41/12*x))*e^(82/175) + e^(3*x + 1))*e^(-41/12*x - 226/175)"
      ]
     },
     "execution_count": 16,
     "metadata": {},
     "output_type": "execute_result"
    }
   ],
   "source": [
    "f(x) = e^(-tp) * sum(e^((1 - hp * (1 + u)) * x) * U_vec[u] for u in range(m))\n",
    "f(x).simplify_full()"
   ]
  },
  {
   "cell_type": "code",
   "execution_count": 17,
   "id": "0b906f41",
   "metadata": {},
   "outputs": [
    {
     "data": {
      "image/png": "[encoded data removed]",
      "text/plain": [
       "Graphics object consisting of 2 graphics primitives"
      ]
     },
     "execution_count": 17,
     "metadata": {},
     "output_type": "execute_result"
    }
   ],
   "source": [
    "plot(f(x), (x,0,10), ymin = 0.5, ymax = 1.1) + plot(1, (x,0,10), ymin = 0.5, ymax = 1.1, color = 'red')"
   ]
  },
  {
   "cell_type": "markdown",
   "id": "c64c58ed",
   "metadata": {},
   "source": [
    "We substitute $x$ by $- (m-1)(b-a)\\cdot\\log(y)$ below. It suffices to let the substitution constant be the lcm of the denominators in the exponents instead, but that would not be general.\n",
    "\n",
    "Since we are considering $x > 0$, it suffices to consider all $y \\in (0,1)$."
   ]
  },
  {
   "cell_type": "code",
   "execution_count": 18,
   "id": "dffae26e",
   "metadata": {},
   "outputs": [
    {
     "data": {
      "text/html": [
       "<html>\\(\\displaystyle 144\\)</html>"
      ],
      "text/latex": [
       "$\\displaystyle 144$"
      ],
      "text/plain": [
       "144"
      ]
     },
     "execution_count": 18,
     "metadata": {},
     "output_type": "execute_result"
    }
   ],
   "source": [
    "c = (m - 1) * (b - a) # or manual input\n",
    "g(y) = f(x).subs(x == -c * log(y))\n",
    "c # sub constant"
   ]
  },
  {
   "cell_type": "code",
   "execution_count": 19,
   "id": "2b37d5cc",
   "metadata": {
    "scrolled": false
   },
   "outputs": [
    {
     "data": {
      "image/png": "[encoded data removed]",
      "text/plain": [
       "Graphics object consisting of 2 graphics primitives"
      ]
     },
     "execution_count": 19,
     "metadata": {},
     "output_type": "execute_result"
    }
   ],
   "source": [
    "plot(g(y),(y,0,1), ymin = 0, ymax = 1) + plot(1, (y,0,1), ymin = 0, ymax = 1, color = 'red')"
   ]
  },
  {
   "cell_type": "code",
   "execution_count": 31,
   "id": "a3dd64ab",
   "metadata": {},
   "outputs": [
    {
     "data": {
      "text/html": [
       "<html>\\(\\displaystyle -3 \\, {\\left(492 \\, y^{186} - 430 \\, y^{155} e^{\\frac{31}{175}} - 430 \\, y^{155} - 390 \\, y^{135} + 184 \\, y^{124} e^{\\frac{31}{175}} + 328 \\, y^{104} e^{\\frac{31}{175}} + 164 \\, y^{104} + 153 \\, y^{93} e^{\\frac{62}{175}} + 51 \\, y^{93} + 113 \\, y^{53} - 102 \\, y^{42} e^{\\frac{62}{175}} - 82 \\, y^{22} e^{\\frac{31}{175}} - 20 \\, e^{\\frac{93}{175}}\\right)} y^{59} e^{\\left(-\\frac{144}{175}\\right)}\\)</html>"
      ],
      "text/latex": [
       "$\\displaystyle -3 \\, {\\left(492 \\, y^{186} - 430 \\, y^{155} e^{\\frac{31}{175}} - 430 \\, y^{155} - 390 \\, y^{135} + 184 \\, y^{124} e^{\\frac{31}{175}} + 328 \\, y^{104} e^{\\frac{31}{175}} + 164 \\, y^{104} + 153 \\, y^{93} e^{\\frac{62}{175}} + 51 \\, y^{93} + 113 \\, y^{53} - 102 \\, y^{42} e^{\\frac{62}{175}} - 82 \\, y^{22} e^{\\frac{31}{175}} - 20 \\, e^{\\frac{93}{175}}\\right)} y^{59} e^{\\left(-\\frac{144}{175}\\right)}$"
      ],
      "text/plain": [
       "-3*(492*y^186 - 430*y^155*e^(31/175) - 430*y^155 - 390*y^135 + 184*y^124*e^(31/175) + 328*y^104*e^(31/175) + 164*y^104 + 153*y^93*e^(62/175) + 51*y^93 + 113*y^53 - 102*y^42*e^(62/175) - 82*y^22*e^(31/175) - 20*e^(93/175))*y^59*e^(-144/175)"
      ]
     },
     "execution_count": 31,
     "metadata": {},
     "output_type": "execute_result"
    }
   ],
   "source": [
    "dg(y) = factor(diff(g(y)).simplify())\n",
    "dg(y)"
   ]
  },
  {
   "cell_type": "code",
   "execution_count": 21,
   "id": "f37dda0b",
   "metadata": {},
   "outputs": [
    {
     "data": {
      "text/latex": [
       "60"
      ],
      "text/plain": [
       "60"
      ]
     },
     "execution_count": 21,
     "metadata": {},
     "output_type": "execute_result"
    }
   ],
   "source": [
    "mdg = mathematica(dg(y))\n",
    "mdg.CountRoots([y,0,1]) # call CountRoots from Mathematica\n",
    "# solve(dg(y) == 0, y, multiplicities = True) a possible alternative"
   ]
  },
  {
   "cell_type": "markdown",
   "id": "b57342d1",
   "metadata": {},
   "source": [
    "There seems to be no `CountRoots` equivalent in SageMath. The `find_root` function gives *a* (not *the*) root of $g(y)$ within the closed interval given. It can run into precision problems if we choose some $a > 1000$, which makes $g'(y)$ have extremely large constants for computation. For example, see what `find_root` gives when we let $m = 7, p = 84 / 373,$ and $c = 1734 = 6 \\times (373 - 84)$.\n",
    "\n",
    "The idea is to use the `CountRoots` function from Mathematica, which hopefully helps us determine that for the function $g'(y)$, there are (1 + multiplicity of the root $y = 0$) on the closed interval $[0,1]$. (It is likely also that this function becomes unreliable for large $a$.) If that is the case, we know there is exactly one root of $g'(y)$ on $(0,1]$. Then by the steps below here in the code, we know that this root is indeed the global maximum, with $g(y_{\\max}) < 1$."
   ]
  },
  {
   "cell_type": "code",
   "execution_count": 22,
   "id": "5dbe039c",
   "metadata": {
    "scrolled": true
   },
   "outputs": [
    {
     "data": {
      "text/html": [
       "<html>\\(\\displaystyle 0.9900915461380996\\)</html>"
      ],
      "text/latex": [
       "$\\displaystyle 0.9900915461380996$"
      ],
      "text/plain": [
       "0.9900915461380996"
      ]
     },
     "execution_count": 22,
     "metadata": {},
     "output_type": "execute_result"
    }
   ],
   "source": [
    "y_max = dg(y).find_root(0.5,1)\n",
    "y_max"
   ]
  },
  {
   "cell_type": "code",
   "execution_count": 23,
   "id": "4d192f12",
   "metadata": {},
   "outputs": [
    {
     "data": {
      "text/html": [
       "<html>\\(\\displaystyle 0.999346739212881\\)</html>"
      ],
      "text/latex": [
       "$\\displaystyle 0.999346739212881$"
      ],
      "text/plain": [
       "0.999346739212881"
      ]
     },
     "execution_count": 23,
     "metadata": {},
     "output_type": "execute_result"
    }
   ],
   "source": [
    "g(y_max).n() # < 1"
   ]
  },
  {
   "cell_type": "code",
   "execution_count": 24,
   "id": "e5b7518e",
   "metadata": {
    "scrolled": false
   },
   "outputs": [
    {
     "data": {
      "text/html": [
       "<html>\\(\\displaystyle 1.433933176622601\\)</html>"
      ],
      "text/latex": [
       "$\\displaystyle 1.433933176622601$"
      ],
      "text/plain": [
       "1.433933176622601"
      ]
     },
     "execution_count": 24,
     "metadata": {},
     "output_type": "execute_result"
    }
   ],
   "source": [
    "x_max = -c * log(y_max) # original x_max\n",
    "x_max"
   ]
  },
  {
   "cell_type": "markdown",
   "id": "cb01c490",
   "metadata": {},
   "source": [
    "To check if this $y$ is indeed the global *maximum*, by the continuity of $g'$ we may do the following:"
   ]
  },
  {
   "cell_type": "code",
   "execution_count": 25,
   "id": "8ff72fd0",
   "metadata": {},
   "outputs": [
    {
     "data": {
      "text/html": [
       "<html>\\(\\displaystyle 0.406142632259332\\)</html>"
      ],
      "text/latex": [
       "$\\displaystyle 0.406142632259332$"
      ],
      "text/plain": [
       "0.406142632259332"
      ]
     },
     "execution_count": 25,
     "metadata": {},
     "output_type": "execute_result"
    }
   ],
   "source": [
    "dg(y_max - 0.0001).n() # > 0"
   ]
  },
  {
   "cell_type": "code",
   "execution_count": 26,
   "id": "f1012df2",
   "metadata": {},
   "outputs": [
    {
     "data": {
      "text/html": [
       "<html>\\(\\displaystyle -0.410921878851331\\)</html>"
      ],
      "text/latex": [
       "$\\displaystyle -0.410921878851331$"
      ],
      "text/plain": [
       "-0.410921878851331"
      ]
     },
     "execution_count": 26,
     "metadata": {},
     "output_type": "execute_result"
    }
   ],
   "source": [
    "dg(y_max + 0.0001).n() # < 0"
   ]
  },
  {
   "cell_type": "markdown",
   "id": "bea9ed89",
   "metadata": {},
   "source": [
    "To summarize,"
   ]
  },
  {
   "cell_type": "code",
   "execution_count": 27,
   "id": "b2776393",
   "metadata": {},
   "outputs": [
    {
     "name": "stdout",
     "output_type": "stream",
     "text": [
      "Under m = 4 and p = 17/65 ~ 0.26153846153846155 the substitution constant is 144 \n",
      "g(y) reaches its maximum at y = 0.9900915461380996 with value 0.999346739212881 < 1\n",
      "The original f(x) now reaches its maximum at x = 1.433933176622601\n"
     ]
    }
   ],
   "source": [
    "print('Under m =', m, 'and p =', p, '~', float(p),'the substitution constant is', c,'\\n\\\n",
    "g(y) reaches its maximum at y =', y_max, 'with value', g(y_max).n(), '< 1\\n\\\n",
    "The original f(x) now reaches its maximum at x =', x_max)"
   ]
  }
 ],
 "metadata": {
  "kernelspec": {
   "display_name": "SageMath 10.0",
   "language": "sage",
   "name": "sagemath-10.0"
  },
  "language_info": {
   "codemirror_mode": {
    "name": "ipython",
    "version": 3
   },
   "file_extension": ".py",
   "mimetype": "text/x-python",
   "name": "python",
   "nbconvert_exporter": "python",
   "pygments_lexer": "ipython3",
   "version": "3.11.1"
  },
  "varInspector": {
   "cols": {
    "lenName": 16,
    "lenType": 16,
    "lenVar": 40
   },
   "kernels_config": {
    "python": {
     "delete_cmd_postfix": "",
     "delete_cmd_prefix": "del ",
     "library": "var_list.py",
     "varRefreshCmd": "print(var_dic_list())"
    },
    "r": {
     "delete_cmd_postfix": ") ",
     "delete_cmd_prefix": "rm(",
     "library": "var_list.r",
     "varRefreshCmd": "cat(var_dic_list()) "
    }
   },
   "types_to_exclude": [
    "module",
    "function",
    "builtin_function_or_method",
    "instance",
    "_Feature"
   ],
   "window_display": false
  }
 },
 "nbformat": 4,
 "nbformat_minor": 5
}
